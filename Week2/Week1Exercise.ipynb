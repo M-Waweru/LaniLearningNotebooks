{
 "cells": [
  {
   "cell_type": "markdown",
   "metadata": {},
   "source": [
    "# Question 1"
   ]
  },
  {
   "cell_type": "code",
   "execution_count": 2,
   "metadata": {},
   "outputs": [
    {
     "name": "stdout",
     "output_type": "stream",
     "text": [
      "Enter x: 2\n",
      "Enter y: 3\n",
      "8\n"
     ]
    }
   ],
   "source": [
    "x = int(input('Enter x: '))\n",
    "y = int(input('Enter y: '))\n",
    "\n",
    "squarexy = x ** y\n",
    "\n",
    "print(squarexy)"
   ]
  },
  {
   "cell_type": "code",
   "execution_count": 3,
   "metadata": {},
   "outputs": [
    {
     "name": "stdout",
     "output_type": "stream",
     "text": [
      "0.30102999566398114\n"
     ]
    }
   ],
   "source": [
    "import math as m\n",
    "\n",
    "print(m.log(x, 10))"
   ]
  },
  {
   "cell_type": "markdown",
   "metadata": {
    "collapsed": true
   },
   "source": [
    "# Question 2"
   ]
  },
  {
   "cell_type": "code",
   "execution_count": null,
   "metadata": {
    "collapsed": true
   },
   "outputs": [],
   "source": [
    "x = int(input('Enter a number: '))\n",
    "\n",
    "if (x % 3 == 0 and x % 5 == 0):\n",
    "    print('FizzBuzz')\n",
    "elif (x % 3 == 0):\n",
    "    print('Fizz')\n",
    "elif (x % 5 == 0):\n",
    "    print('Buzz')\n",
    "else:\n",
    "    print(x)\n",
    "    \n"
   ]
  },
  {
   "cell_type": "markdown",
   "metadata": {},
   "source": [
    "# Question 3"
   ]
  },
  {
   "cell_type": "code",
   "execution_count": 1,
   "metadata": {},
   "outputs": [
    {
     "name": "stdout",
     "output_type": "stream",
     "text": [
      "Enter a number: 90\n",
      "Points: 1\n"
     ]
    }
   ],
   "source": [
    "demeritno = 0\n",
    "def checkSpeed(speed):\n",
    "    if (speed < 70):\n",
    "        print('OK')\n",
    "    else:\n",
    "        demeritno+=1\n",
    "        print('Points: ' + str(demeritno))\n",
    "\n",
    "speed = int(input('Enter a number: '))"
   ]
  },
  {
   "cell_type": "code",
   "execution_count": 8,
   "metadata": {},
   "outputs": [
    {
     "name": "stdout",
     "output_type": "stream",
     "text": [
      "Points: 1\n"
     ]
    }
   ],
   "source": [
    "demeritno = 0\n",
    "checkSpeed(speed)"
   ]
  },
  {
   "cell_type": "code",
   "execution_count": null,
   "metadata": {
    "collapsed": true
   },
   "outputs": [],
   "source": []
  }
 ],
 "metadata": {
  "kernelspec": {
   "display_name": "Python 3",
   "language": "python",
   "name": "python3"
  },
  "language_info": {
   "codemirror_mode": {
    "name": "ipython",
    "version": 3
   },
   "file_extension": ".py",
   "mimetype": "text/x-python",
   "name": "python",
   "nbconvert_exporter": "python",
   "pygments_lexer": "ipython3",
   "version": "3.6.1"
  }
 },
 "nbformat": 4,
 "nbformat_minor": 2
}
