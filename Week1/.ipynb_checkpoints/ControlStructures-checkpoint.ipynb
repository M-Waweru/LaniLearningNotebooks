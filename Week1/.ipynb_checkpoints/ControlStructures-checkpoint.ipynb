{
 "cells": [
  {
   "cell_type": "markdown",
   "metadata": {},
   "source": [
    "# Guessing Game"
   ]
  },
  {
   "cell_type": "code",
   "execution_count": 1,
   "metadata": {
    "collapsed": true
   },
   "outputs": [],
   "source": [
    "from random import randint"
   ]
  },
  {
   "cell_type": "code",
   "execution_count": 16,
   "metadata": {},
   "outputs": [
    {
     "name": "stdout",
     "output_type": "stream",
     "text": [
      "Guess the number I am guessing: 5\n",
      "You guessed it correctly, good job\n",
      "Nice, want another game\n",
      "Finish\n"
     ]
    }
   ],
   "source": [
    "random_no = randint(1, 10)\n",
    "gotcorrect = False\n",
    "\n",
    "for i in range(1,4):\n",
    "    guess_no = int(input('Guess the number I am guessing: '))\n",
    "    if (guess_no == random_no):\n",
    "        print('You guessed it correctly, good job')\n",
    "        gotcorrect = True\n",
    "        break\n",
    "    else:\n",
    "        print('Try again')\n",
    "\n",
    "if (gotcorrect == False):\n",
    "    print('Restart and try again to get it right now')\n",
    "else:\n",
    "    print('Nice, want another game')\n",
    "        \n",
    "print('Finish')"
   ]
  },
  {
   "cell_type": "code",
   "execution_count": 24,
   "metadata": {},
   "outputs": [
    {
     "name": "stdout",
     "output_type": "stream",
     "text": [
      "22\n",
      "34\n",
      "45\n"
     ]
    }
   ],
   "source": [
    "ages = [22, 34, 45]\n",
    "\n",
    "for x in ages:\n",
    "    print(x)"
   ]
  },
  {
   "cell_type": "code",
   "execution_count": 25,
   "metadata": {},
   "outputs": [
    {
     "name": "stdout",
     "output_type": "stream",
     "text": [
      "K\n",
      "i\n",
      "n\n",
      "y\n",
      "a\n",
      "n\n",
      "g\n",
      "a\n",
      "r\n",
      "i\n",
      "k\n",
      "a\n"
     ]
    }
   ],
   "source": [
    "name = \"Kinyangarika\"\n",
    "\n",
    "for n in name:\n",
    "    print(n)"
   ]
  },
  {
   "cell_type": "markdown",
   "metadata": {},
   "source": [
    "# While Loop"
   ]
  },
  {
   "cell_type": "code",
   "execution_count": 20,
   "metadata": {},
   "outputs": [
    {
     "name": "stdout",
     "output_type": "stream",
     "text": [
      "0\n",
      "1\n",
      "2\n",
      "3\n",
      "4\n",
      "5\n",
      "6\n",
      "7\n",
      "8\n"
     ]
    }
   ],
   "source": [
    "x = 0\n",
    "\n",
    "while x < 9:\n",
    "    print(x)\n",
    "    x += 1"
   ]
  },
  {
   "cell_type": "code",
   "execution_count": null,
   "metadata": {
    "collapsed": true
   },
   "outputs": [],
   "source": []
  }
 ],
 "metadata": {
  "kernelspec": {
   "display_name": "Python 3",
   "language": "python",
   "name": "python3"
  },
  "language_info": {
   "codemirror_mode": {
    "name": "ipython",
    "version": 3
   },
   "file_extension": ".py",
   "mimetype": "text/x-python",
   "name": "python",
   "nbconvert_exporter": "python",
   "pygments_lexer": "ipython3",
   "version": "3.6.1"
  }
 },
 "nbformat": 4,
 "nbformat_minor": 2
}
